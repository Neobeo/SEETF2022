{
 "cells": [
  {
   "cell_type": "markdown",
   "metadata": {},
   "source": [
    "# Partial Solution for Huffbleed\n",
    "\n",
    "_This challenge is based on Nintendo's Huffman compression used in a significant number of GBA/DS games. It's surprisingly hard to find a good link now, but [here's one such decoder](https://github.com/Plombo/vcromclaim/blob/master/huf8.py) (noting that the header is slightly different to the one implemented in this challenge). Encoding it turns out to be non-trivial, and almost everyone gets it wrong, so why not make a pwn challenge out of it?_\n"
   ]
  },
  {
   "cell_type": "markdown",
   "metadata": {},
   "source": [
    "The intended vulnerability here is that the code does not always compress correctly. The condition can be a bit subtle, but this happens when the tree bandwidth exceeds 64. Here's some examples to show why BFS and DFS don't produce good-enough labellings, and what the greedy algorithm implemented in Huffbleed does.\n",
    "![bandwidth](huffbleedbw.png)\n",
    "\n",
    "The greedy algorithm works well for balanced trees (and in most cases really), but you can imagine there will be Huffman trees where it constructs a labelling with bandwidth greater than 64. Our job then (or at least the first part of our job), is to find one such instance."
   ]
  },
  {
   "cell_type": "code",
   "execution_count": 1,
   "metadata": {},
   "outputs": [],
   "source": [
    "from pwn import *"
   ]
  },
  {
   "cell_type": "markdown",
   "metadata": {},
   "source": [
    "(the rest of the write-up is truncated for now, but basically there is no intended bug that crashes, and you're meant to leak past the end of the buffer)"
   ]
  }
 ],
 "metadata": {
  "kernelspec": {
   "display_name": "Python 3 (ipykernel)",
   "language": "python",
   "name": "python3"
  },
  "language_info": {
   "codemirror_mode": {
    "name": "ipython",
    "version": 3
   },
   "file_extension": ".py",
   "mimetype": "text/x-python",
   "name": "python",
   "nbconvert_exporter": "python",
   "pygments_lexer": "ipython3",
   "version": "3.10.4"
  }
 },
 "nbformat": 4,
 "nbformat_minor": 4
}
